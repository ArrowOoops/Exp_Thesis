{
 "cells": [
  {
   "cell_type": "code",
   "execution_count": 1,
   "metadata": {},
   "outputs": [],
   "source": [
    "import torch"
   ]
  },
  {
   "cell_type": "code",
   "execution_count": 2,
   "metadata": {},
   "outputs": [
    {
     "data": {
      "text/plain": [
       "(True, '1.13.0+cu117')"
      ]
     },
     "execution_count": 2,
     "metadata": {},
     "output_type": "execute_result"
    }
   ],
   "source": [
    "torch.cuda.is_available(), torch.__version__"
   ]
  },
  {
   "cell_type": "code",
   "execution_count": 3,
   "metadata": {},
   "outputs": [],
   "source": [
    "from gpt2.modeling_gpt2 import GPT2LMHeadModel, GPT2Config\n",
    "from transformers import BertTokenizer"
   ]
  },
  {
   "cell_type": "code",
   "execution_count": 4,
   "metadata": {},
   "outputs": [
    {
     "name": "stdout",
     "output_type": "stream",
     "text": [
      "GPT2LMHeadModel::init\n",
      "GPT2Model::init\n"
     ]
    }
   ],
   "source": [
    "tok_path = 'vocab.txt'\n",
    "config_path = \"config.json\"\n",
    "tokenizer = BertTokenizer(vocab_file=tok_path)\n",
    "model_config = GPT2Config.from_json_file(config_path)\n",
    "# print(model_config)\n",
    "model = GPT2LMHeadModel(config=model_config)"
   ]
  },
  {
   "cell_type": "code",
   "execution_count": 5,
   "metadata": {},
   "outputs": [
    {
     "data": {
      "text/plain": [
       "tensor([2769, 3221, 1004, 6873])"
      ]
     },
     "execution_count": 5,
     "metadata": {},
     "output_type": "execute_result"
    }
   ],
   "source": [
    "raw_seq = \"我是傻逼\"\n",
    "sen_ids = tokenizer.convert_tokens_to_ids(tokenizer.tokenize(raw_seq))\n",
    "sen_ids = torch.tensor(sen_ids).long()\n",
    "sen_ids"
   ]
  },
  {
   "cell_type": "code",
   "execution_count": 6,
   "metadata": {},
   "outputs": [
    {
     "name": "stdout",
     "output_type": "stream",
     "text": [
      "before add_noise lm_logits =  tensor([[ 0.3421,  0.5512,  0.3495,  ..., -0.0912, -0.9572,  0.4059],\n",
      "        [-0.0608, -0.1391,  0.3084,  ..., -0.4533, -0.1604,  0.4767],\n",
      "        [ 0.5563,  0.5511, -0.0839,  ..., -1.1306,  0.0461,  0.5274],\n",
      "        [-0.0970, -0.6859,  0.0973,  ..., -0.9365, -0.2355,  0.2370]],\n",
      "       grad_fn=<MmBackward0>)\n",
      "after add_noise lm_logits =  tensor([[ 0.7255,  0.9564,  0.0579,  ..., -0.5846, -0.9508,  0.4703],\n",
      "        [ 0.4446, -0.5448, -0.3046,  ..., -0.1528, -0.9999,  0.6123],\n",
      "        [ 0.6390,  0.3522, -0.1020,  ..., -0.2878, -0.0740,  0.9863],\n",
      "        [-0.1521,  0.0427, -0.7514,  ..., -1.3823,  0.0085,  0.0147]],\n",
      "       grad_fn=<AddBackward0>)\n"
     ]
    }
   ],
   "source": [
    "outputs = model(input_ids=sen_ids, labels=sen_ids)\n",
    "loss, logits = outputs[:2]"
   ]
  },
  {
   "cell_type": "code",
   "execution_count": 7,
   "metadata": {},
   "outputs": [
    {
     "data": {
      "text/plain": [
       "tensor(10.0052, grad_fn=<NllLossBackward0>)"
      ]
     },
     "execution_count": 7,
     "metadata": {},
     "output_type": "execute_result"
    }
   ],
   "source": [
    "loss"
   ]
  },
  {
   "cell_type": "code",
   "execution_count": 8,
   "metadata": {},
   "outputs": [
    {
     "data": {
      "text/plain": [
       "torch.Size([4, 21128])"
      ]
     },
     "execution_count": 8,
     "metadata": {},
     "output_type": "execute_result"
    }
   ],
   "source": [
    "logits.shape"
   ]
  },
  {
   "cell_type": "code",
   "execution_count": 9,
   "metadata": {},
   "outputs": [],
   "source": [
    "loss.backward()"
   ]
  },
  {
   "cell_type": "code",
   "execution_count": 10,
   "metadata": {},
   "outputs": [
    {
     "data": {
      "text/plain": [
       "tensor([[ 0.6617,  1.3694,  0.8519,  ..., -1.2535, -0.8487, -0.6466],\n",
       "        [ 0.6588,  0.1996, -0.7270,  ..., -0.1879, -0.5847, -0.1767],\n",
       "        [ 0.6305,  0.9887,  0.9023,  ..., -0.1432,  0.1136,  0.9022],\n",
       "        [ 0.1151, -1.4189, -0.2566,  ..., -1.7142,  0.0808, -0.2357]],\n",
       "       grad_fn=<AddBackward0>)"
      ]
     },
     "execution_count": 10,
     "metadata": {},
     "output_type": "execute_result"
    }
   ],
   "source": [
    "logits + torch.normal(mean=0, std=0.5, size=logits.shape)"
   ]
  }
 ],
 "metadata": {
  "kernelspec": {
   "display_name": "dl",
   "language": "python",
   "name": "python3"
  },
  "language_info": {
   "codemirror_mode": {
    "name": "ipython",
    "version": 3
   },
   "file_extension": ".py",
   "mimetype": "text/x-python",
   "name": "python",
   "nbconvert_exporter": "python",
   "pygments_lexer": "ipython3",
   "version": "3.8.15"
  },
  "orig_nbformat": 4
 },
 "nbformat": 4,
 "nbformat_minor": 2
}
